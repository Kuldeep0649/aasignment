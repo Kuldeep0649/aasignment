{
 "cells": [
  {
   "cell_type": "markdown",
   "id": "4ac9602a",
   "metadata": {},
   "source": [
    "## Python Basic Programming Assignment - 5\n",
    "--------------\n"
   ]
  },
  {
   "cell_type": "markdown",
   "id": "fdaeee06",
   "metadata": {},
   "source": [
    "1. Write a Python Program to Find LCM?\n",
    "def compute_lcm(x, y):\n",
    "\n",
    "   # choose the greater number\n",
    "   if x > y:\n",
    "        greater = x\n",
    "   else:\n",
    "       greater = y\n",
    "\n",
    "   while(True):\n",
    "       if((greater % x == 0) and (greater % y == 0)):\n",
    "            lcm =greater\n",
    "            break\n",
    "            greater += 1\n",
    "            return lcm\n",
    "\n",
    "num1 = 54\n",
    "num2 = 24\n",
    "\n",
    "print(\"The L.C.M. is\", compute_lcm(num1, num2))"
   ]
  },
  {
   "cell_type": "markdown",
   "id": "2f459cdf",
   "metadata": {},
   "source": [
    " 2. Write a Python Program to Find HCF?\n",
    " def compute_hcf(x, y):\n",
    "\n",
    "# choose the smaller number\n",
    "    if x > y:\n",
    "        smaller = y\n",
    "    else:\n",
    "        smaller = x\n",
    "    for i in range(1, smaller+1):\n",
    "        if((x % i == 0) and (y % i == 0)):\n",
    "            hcf = i \n",
    "    return hcf\n",
    "\n",
    "num1 = 54 \n",
    "num2 = 24\n",
    "\n",
    "print(\"The H.C.F. is\", compute_hcf(num1, num2))"
   ]
  },
  {
   "cell_type": "markdown",
   "id": "d2c29370",
   "metadata": {},
   "source": [
    " 3. Write a Python Program to Convert Decimal to Binary, Octal and Hexadecimal?\n",
    " dec = 344\n",
    "\n",
    "print(\"The decimal value of\", dec, \"is:\")\n",
    "print(bin(dec), \"in binary.\")\n",
    "print(oct(dec), \"in octal.\")\n",
    "print(hex(dec), \"in hexadecimal.\")"
   ]
  },
  {
   "cell_type": "markdown",
   "id": "2a16c5fd",
   "metadata": {},
   "source": [
    " 4. Write a Python Program To Find ASCII value of a character?\n",
    " c = 'p'\n",
    "print(\"The ASCII value of '\" + c + \"' is\", ord(c))\n"
   ]
  },
  {
   "cell_type": "markdown",
   "id": "226778a0",
   "metadata": {},
   "source": [
    " 5. Write a Python Program to Make a Simple Calculator with 4 basic mathematical operations?\n",
    " # This function adds two numbers\n",
    "def add(x, y):\n",
    "    return x + y\n",
    "\n",
    "# This function subtracts two numbers\n",
    "def subtract(x, y):\n",
    "    return x - y\n",
    "\n",
    "# This function multiplies two numbers\n",
    "def multiply(x, y):\n",
    "    return x * y\n",
    "\n",
    "# This function divides two numbers\n",
    "def divide(x, y):\n",
    "    return x / y\n",
    "\n",
    "\n",
    "print(\"Select operation.\")\n",
    "print(\"1.Add\")\n",
    "print(\"2.Subtract\")\n",
    "print(\"3.Multiply\")\n",
    "print(\"4.Divide\")\n",
    "\n",
    "while True:\n",
    "    # take input from the user\n",
    "    choice = input(\"Enter choice(1/2/3/4): \")\n",
    "\n",
    "    # check if choice is one of the four options\n",
    "    if choice in ('1', '2', '3', '4'):\n",
    "        try:\n",
    "            num1 = float(input(\"Enter first number: \"))\n",
    "            num2 = float(input(\"Enter second number: \"))\n",
    "        except ValueError:\n",
    "            print(\"Invalid input. Please enter a number.\")\n",
    "            continue\n",
    "\n",
    "        if choice == '1':\n",
    "            print(num1, \"+\", num2, \"=\", add(num1, num2))\n",
    "\n",
    "        elif choice == '2':\n",
    "            print(num1, \"-\", num2, \"=\", subtract(num1, num2))\n",
    "\n",
    "        elif choice == '3':\n",
    "            print(num1, \"*\", num2, \"=\", multiply(num1, num2))\n",
    "\n",
    "        elif choice == '4':\n",
    "            print(num1, \"/\", num2, \"=\", divide(num1, num2))\n",
    "        \n",
    "        # check if user wants another calculation\n",
    "        # break the while loop if answer is no\n",
    "        next_calculation = input(\"Let's do next calculation? (yes/no): \")\n",
    "        if next_calculation == \"no\":\n",
    "          break\n",
    "    else:\n",
    "        print(\"Invalid Input\")\n"
   ]
  }
 ],
 "metadata": {
  "kernelspec": {
   "display_name": "Python 3 (ipykernel)",
   "language": "python",
   "name": "python3"
  },
  "language_info": {
   "codemirror_mode": {
    "name": "ipython",
    "version": 3
   },
   "file_extension": ".py",
   "mimetype": "text/x-python",
   "name": "python",
   "nbconvert_exporter": "python",
   "pygments_lexer": "ipython3",
   "version": "3.9.13"
  }
 },
 "nbformat": 4,
 "nbformat_minor": 5
}

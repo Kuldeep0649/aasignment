{
 "cells": [
  {
   "cell_type": "markdown",
   "id": "ad3c798a",
   "metadata": {
    "id": "ad3c798a"
   },
   "source": [
    "## Programming Assignment_3\n",
    "----------------"
   ]
  },
  {
   "cell_type": "markdown",
   "id": "fdeb4706",
   "metadata": {
    "id": "fdeb4706"
   },
   "source": [
    "1. Write a Python Program to Check if a Number is Positive, Negative or Zero?\n",
    "a =int(input('enter a number'))\n",
    "if a>0:\n",
    "    print(\"positive number\")\n",
    "elif a==0:\n",
    "    print(\"zero\")\n",
    "else:\n",
    "    print(\"negative number\")"
   ]
  },
  {
   "cell_type": "markdown",
   "id": "086bfded",
   "metadata": {
    "id": "086bfded"
   },
   "source": [
    "2. Write a Python Program to Check if a Number is Odd or Even?\n",
    "a =int(input('enter a number'))\n",
    "if a%2==0:\n",
    "    print(\"even\")\n",
    "else:\n",
    "    print(\"odd\")\n"
   ]
  },
  {
   "cell_type": "markdown",
   "id": "575e4f94",
   "metadata": {
    "id": "575e4f94"
   },
   "source": [
    "3. Write a Python Program to Check Leap Year?\n",
    "year=int(input(\"enter year to check \"))\n",
    "if (year%4==0 and year%100!=0 or year%400==0):\n",
    "    print ('the year is leap year')\n",
    "else:\n",
    "    print('the year isn/t a leap year')\n"
   ]
  },
  {
   "cell_type": "markdown",
   "id": "aa83ce63",
   "metadata": {
    "id": "aa83ce63"
   },
   "source": [
    "4. Write a Python Program to Check Prime Number?\n",
    "a =int(input('enter number'))\n",
    "for i in range(2,a):\n",
    "    if a%i==0:\n",
    "        print(a,'is not a prime')\n",
    "        break\n",
    "else:\n",
    "     print(a,'is prime number')\n",
    "    "
   ]
  },
  {
   "cell_type": "markdown",
   "id": "b44b54ff",
   "metadata": {
    "id": "b44b54ff"
   },
   "source": [
    "5. Write a Python Program to Print all Prime Numbers in an Interval of 1-10000?\n",
    "lower =1\n",
    "upper =10000\n",
    "for num in range (lower,upper+1):\n",
    "    if num>1:\n",
    "        for i in range(2,num):\n",
    "            if num%i==0:\n",
    "                break\n",
    "        else:\n",
    "            print(num,end=\"  \")"
   ]
  }
 ],
 "metadata": {
  "colab": {
   "provenance": []
  },
  "kernelspec": {
   "display_name": "Python 3 (ipykernel)",
   "language": "python",
   "name": "python3"
  },
  "language_info": {
   "codemirror_mode": {
    "name": "ipython",
    "version": 3
   },
   "file_extension": ".py",
   "mimetype": "text/x-python",
   "name": "python",
   "nbconvert_exporter": "python",
   "pygments_lexer": "ipython3",
   "version": "3.9.13"
  }
 },
 "nbformat": 4,
 "nbformat_minor": 5
}

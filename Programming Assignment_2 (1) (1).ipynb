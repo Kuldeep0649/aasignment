{
 "cells": [
  {
   "cell_type": "markdown",
   "id": "08c66ea5",
   "metadata": {
    "id": "08c66ea5"
   },
   "source": [
    "## Programming Assignment_2\n",
    "-------------"
   ]
  },
  {
   "cell_type": "markdown",
   "id": "4e50cf42",
   "metadata": {
    "id": "4e50cf42"
   },
   "source": [
    "1. Write a Python program to convert kilometers to miles?\n",
    "km=float(input('enter a kilometer :'))\n",
    "#cf mean conversation factor\n",
    "cf=0.621371\n",
    "miles =km*cf\n",
    "print('the value of kilometer in miles:\\n',miles)\n",
    "\n",
    " "
   ]
  },
  {
   "cell_type": "markdown",
   "id": "0df4e6bf",
   "metadata": {
    "id": "0df4e6bf"
   },
   "source": [
    "2.Write a Python program to convert Celsius to Fahrenheit?\n",
    "celsius=int(input('enter celsius :'))\n",
    "fahrenheit = (celsius * 1.8)+32\n",
    "print(celsius ,'degree celsius is equal to',fahrenheit,'degree fahrenheit')\n"
   ]
  },
  {
   "cell_type": "markdown",
   "id": "Q-iUx4CQoppc",
   "metadata": {
    "id": "Q-iUx4CQoppc"
   },
   "source": []
  },
  {
   "cell_type": "markdown",
   "id": "46129b8e",
   "metadata": {
    "id": "46129b8e"
   },
   "source": [
    "3. Write a Python program to display calendar ?\n",
    "import calendar\n",
    "yy= int(input('enter a year:'))\n",
    "mm =int(input('enter a month:'))\n",
    "print(calendar.month(yy,mm))\n"
   ]
  },
  {
   "cell_type": "markdown",
   "id": "db2bf0f7",
   "metadata": {
    "id": "db2bf0f7"
   },
   "source": [
    "4. Write a Python program to solve quadratic equation?\n",
    "import cmath\n",
    "a=int(input('enter first number :'))\n",
    "b=int(input('enter second number :'))\n",
    "c=int(input('enter third number :'))\n",
    "d=(b**2)-(4*a*c)\n",
    "sol1 =(-b-cmath.sqrt(d))/(2*a)\n",
    "sol2 =(-b+cmath.sqrt(d))/(2*a)\n",
    "print(f'the solution are{sol1} and {sol2}')"
   ]
  },
  {
   "cell_type": "markdown",
   "id": "f70f74c9",
   "metadata": {
    "id": "f70f74c9"
   },
   "source": [
    "5. Write a Python program to swap two variables without temp variable?\n",
    " x =5\n",
    " y=10\n",
    " x,y = y,x\n",
    " print(\"x=\",x)\n",
    " print(\"y=\",y)\n"
   ]
  }
 ],
 "metadata": {
  "colab": {
   "provenance": []
  },
  "kernelspec": {
   "display_name": "Python 3 (ipykernel)",
   "language": "python",
   "name": "python3"
  },
  "language_info": {
   "codemirror_mode": {
    "name": "ipython",
    "version": 3
   },
   "file_extension": ".py",
   "mimetype": "text/x-python",
   "name": "python",
   "nbconvert_exporter": "python",
   "pygments_lexer": "ipython3",
   "version": "3.9.13"
  }
 },
 "nbformat": 4,
 "nbformat_minor": 5
}
